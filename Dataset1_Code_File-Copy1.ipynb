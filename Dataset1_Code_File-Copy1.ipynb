{
 "cells": [
  {
   "cell_type": "markdown",
   "id": "14bf0578",
   "metadata": {
    "papermill": {
     "duration": 0.011919,
     "end_time": "2022-10-28T13:45:58.160056",
     "exception": false,
     "start_time": "2022-10-28T13:45:58.148137",
     "status": "completed"
    },
    "tags": []
   },
   "source": [
    "# Organic Vs Recyclable Waste Classification"
   ]
  },
  {
   "cell_type": "markdown",
   "id": "88ae6701",
   "metadata": {},
   "source": [
    "# Convolutional Neural Network(CNN)"
   ]
  },
  {
   "cell_type": "markdown",
   "id": "09ac7caa",
   "metadata": {
    "papermill": {
     "duration": 0.006542,
     "end_time": "2022-10-28T13:45:58.173153",
     "exception": false,
     "start_time": "2022-10-28T13:45:58.166611",
     "status": "completed"
    },
    "tags": []
   },
   "source": [
    "In this notebook we will deal with a dataset containing 25,000 images of waste. Our task is to build a model to classify this waste into organic waste and recyclable waste. We will experiment with CNN classifiers in order to achieve this task"
   ]
  },
  {
   "cell_type": "code",
   "execution_count": 1,
   "id": "f66cdf9e",
   "metadata": {
    "_cell_guid": "b1076dfc-b9ad-4769-8c92-a6c4dae69d19",
    "_uuid": "8f2839f25d086af736a60e9eeb907d3b93b6e0e5",
    "execution": {
     "iopub.execute_input": "2022-10-28T13:45:58.188685Z",
     "iopub.status.busy": "2022-10-28T13:45:58.188014Z",
     "iopub.status.idle": "2022-10-28T13:46:01.296097Z",
     "shell.execute_reply": "2022-10-28T13:46:01.295057Z"
    },
    "papermill": {
     "duration": 3.11895,
     "end_time": "2022-10-28T13:46:01.298892",
     "exception": false,
     "start_time": "2022-10-28T13:45:58.179942",
     "status": "completed"
    },
    "tags": []
   },
   "outputs": [],
   "source": [
    "import os\n",
    "import cv2\n",
    "import numpy as np\n",
    "import pandas as pd\n",
    "import matplotlib.pyplot as plt\n",
    "import seaborn as sns\n",
    "import glob\n",
    "from sklearn.model_selection import train_test_split\n",
    "from sklearn.preprocessing import StandardScaler\n",
    "from sklearn.impute import SimpleImputer\n",
    "from sklearn.decomposition import PCA\n",
    "from sklearn.neighbors import KNeighborsClassifier\n",
    "from sklearn.ensemble import RandomForestClassifier\n",
    "from sklearn.svm import SVC\n",
    "from sklearn.metrics import accuracy_score, confusion_matrix, classification_report,precision_score, recall_score, f1_score\n",
    "from sklearn.preprocessing import LabelEncoder\n",
    "from PIL import Image\n",
    "from custom_cnn import CustomCNN  # Import custom CNN model\n",
    "\n",
    "import torch\n",
    "import torchvision\n",
    "import torch.nn as nn\n",
    "import torch.nn.functional as F\n",
    "from torchvision.io import read_image\n",
    "from torch.utils.data import Dataset\n",
    "from torchvision import transforms\n",
    "import torchvision.transforms as transforms\n",
    "from torch.utils.data import DataLoader\n",
    "from torchvision.transforms import Compose, Resize, ToTensor, Normalize"
   ]
  },
  {
   "cell_type": "markdown",
   "id": "234bdb12",
   "metadata": {
    "papermill": {
     "duration": 0.006684,
     "end_time": "2022-10-28T13:46:01.312594",
     "exception": false,
     "start_time": "2022-10-28T13:46:01.305910",
     "status": "completed"
    },
    "tags": []
   },
   "source": [
    "## Parse Data directories"
   ]
  },
  {
   "cell_type": "code",
   "execution_count": 2,
   "id": "29a2331d",
   "metadata": {
    "execution": {
     "iopub.execute_input": "2022-10-28T13:46:01.329782Z",
     "iopub.status.busy": "2022-10-28T13:46:01.327734Z",
     "iopub.status.idle": "2022-10-28T13:46:01.336323Z",
     "shell.execute_reply": "2022-10-28T13:46:01.335272Z"
    },
    "papermill": {
     "duration": 0.019196,
     "end_time": "2022-10-28T13:46:01.338663",
     "exception": false,
     "start_time": "2022-10-28T13:46:01.319467",
     "status": "completed"
    },
    "tags": []
   },
   "outputs": [],
   "source": [
    "def get_img_paths(path):\n",
    "    paths = []\n",
    "    labels = []\n",
    "    for label in os.listdir(path):\n",
    "        img_dir = os.path.join(path, label)\n",
    "        for img in os.listdir(img_dir):\n",
    "            paths.append(os.path.join(img_dir, img))\n",
    "            labels.append(label)\n",
    "\n",
    "    return pd.DataFrame({'path':paths, 'label':labels})"
   ]
  },
  {
   "cell_type": "markdown",
   "id": "f5e5b191",
   "metadata": {
    "papermill": {
     "duration": 0.007887,
     "end_time": "2022-10-28T13:46:01.353430",
     "exception": false,
     "start_time": "2022-10-28T13:46:01.345543",
     "status": "completed"
    },
    "tags": []
   },
   "source": [
    "## Training Paths"
   ]
  },
  {
   "cell_type": "code",
   "execution_count": 3,
   "id": "77cf43ab",
   "metadata": {
    "execution": {
     "iopub.execute_input": "2022-10-28T13:46:01.368669Z",
     "iopub.status.busy": "2022-10-28T13:46:01.368259Z",
     "iopub.status.idle": "2022-10-28T13:46:02.930541Z",
     "shell.execute_reply": "2022-10-28T13:46:02.929322Z"
    },
    "papermill": {
     "duration": 1.574084,
     "end_time": "2022-10-28T13:46:02.934110",
     "exception": false,
     "start_time": "2022-10-28T13:46:01.360026",
     "status": "completed"
    },
    "tags": []
   },
   "outputs": [
    {
     "data": {
      "text/html": [
       "<div>\n",
       "<style scoped>\n",
       "    .dataframe tbody tr th:only-of-type {\n",
       "        vertical-align: middle;\n",
       "    }\n",
       "\n",
       "    .dataframe tbody tr th {\n",
       "        vertical-align: top;\n",
       "    }\n",
       "\n",
       "    .dataframe thead th {\n",
       "        text-align: right;\n",
       "    }\n",
       "</style>\n",
       "<table border=\"1\" class=\"dataframe\">\n",
       "  <thead>\n",
       "    <tr style=\"text-align: right;\">\n",
       "      <th></th>\n",
       "      <th>path</th>\n",
       "      <th>label</th>\n",
       "    </tr>\n",
       "  </thead>\n",
       "  <tbody>\n",
       "    <tr>\n",
       "      <th>0</th>\n",
       "      <td>F:/UWL Study Documents/Dissertation/archive/DA...</td>\n",
       "      <td>O</td>\n",
       "    </tr>\n",
       "    <tr>\n",
       "      <th>1</th>\n",
       "      <td>F:/UWL Study Documents/Dissertation/archive/DA...</td>\n",
       "      <td>O</td>\n",
       "    </tr>\n",
       "    <tr>\n",
       "      <th>2</th>\n",
       "      <td>F:/UWL Study Documents/Dissertation/archive/DA...</td>\n",
       "      <td>O</td>\n",
       "    </tr>\n",
       "    <tr>\n",
       "      <th>3</th>\n",
       "      <td>F:/UWL Study Documents/Dissertation/archive/DA...</td>\n",
       "      <td>O</td>\n",
       "    </tr>\n",
       "    <tr>\n",
       "      <th>4</th>\n",
       "      <td>F:/UWL Study Documents/Dissertation/archive/DA...</td>\n",
       "      <td>O</td>\n",
       "    </tr>\n",
       "  </tbody>\n",
       "</table>\n",
       "</div>"
      ],
      "text/plain": [
       "                                                path label\n",
       "0  F:/UWL Study Documents/Dissertation/archive/DA...     O\n",
       "1  F:/UWL Study Documents/Dissertation/archive/DA...     O\n",
       "2  F:/UWL Study Documents/Dissertation/archive/DA...     O\n",
       "3  F:/UWL Study Documents/Dissertation/archive/DA...     O\n",
       "4  F:/UWL Study Documents/Dissertation/archive/DA...     O"
      ]
     },
     "execution_count": 3,
     "metadata": {},
     "output_type": "execute_result"
    }
   ],
   "source": [
    "train = get_img_paths(\"F:/UWL Study Documents/Dissertation/archive/DATASET/DATASET/TRAIN\")\n",
    "train.head()"
   ]
  },
  {
   "cell_type": "code",
   "execution_count": 4,
   "id": "d4397ee9",
   "metadata": {
    "execution": {
     "iopub.execute_input": "2022-10-28T13:46:02.948745Z",
     "iopub.status.busy": "2022-10-28T13:46:02.947836Z",
     "iopub.status.idle": "2022-10-28T13:46:02.971017Z",
     "shell.execute_reply": "2022-10-28T13:46:02.969011Z"
    },
    "papermill": {
     "duration": 0.034045,
     "end_time": "2022-10-28T13:46:02.974462",
     "exception": false,
     "start_time": "2022-10-28T13:46:02.940417",
     "status": "completed"
    },
    "tags": []
   },
   "outputs": [
    {
     "name": "stdout",
     "output_type": "stream",
     "text": [
      "<class 'pandas.core.frame.DataFrame'>\n",
      "RangeIndex: 22564 entries, 0 to 22563\n",
      "Data columns (total 2 columns):\n",
      " #   Column  Non-Null Count  Dtype \n",
      "---  ------  --------------  ----- \n",
      " 0   path    22564 non-null  object\n",
      " 1   label   22564 non-null  object\n",
      "dtypes: object(2)\n",
      "memory usage: 352.7+ KB\n"
     ]
    }
   ],
   "source": [
    "train.info()"
   ]
  },
  {
   "cell_type": "markdown",
   "id": "4a89ffbe",
   "metadata": {
    "papermill": {
     "duration": 0.006063,
     "end_time": "2022-10-28T13:46:02.987512",
     "exception": false,
     "start_time": "2022-10-28T13:46:02.981449",
     "status": "completed"
    },
    "tags": []
   },
   "source": [
    "## Test Paths"
   ]
  },
  {
   "cell_type": "code",
   "execution_count": 5,
   "id": "14d69524",
   "metadata": {
    "execution": {
     "iopub.execute_input": "2022-10-28T13:46:03.002356Z",
     "iopub.status.busy": "2022-10-28T13:46:03.001620Z",
     "iopub.status.idle": "2022-10-28T13:46:03.756922Z",
     "shell.execute_reply": "2022-10-28T13:46:03.755775Z"
    },
    "papermill": {
     "duration": 0.765491,
     "end_time": "2022-10-28T13:46:03.759695",
     "exception": false,
     "start_time": "2022-10-28T13:46:02.994204",
     "status": "completed"
    },
    "tags": []
   },
   "outputs": [
    {
     "data": {
      "text/html": [
       "<div>\n",
       "<style scoped>\n",
       "    .dataframe tbody tr th:only-of-type {\n",
       "        vertical-align: middle;\n",
       "    }\n",
       "\n",
       "    .dataframe tbody tr th {\n",
       "        vertical-align: top;\n",
       "    }\n",
       "\n",
       "    .dataframe thead th {\n",
       "        text-align: right;\n",
       "    }\n",
       "</style>\n",
       "<table border=\"1\" class=\"dataframe\">\n",
       "  <thead>\n",
       "    <tr style=\"text-align: right;\">\n",
       "      <th></th>\n",
       "      <th>path</th>\n",
       "      <th>label</th>\n",
       "    </tr>\n",
       "  </thead>\n",
       "  <tbody>\n",
       "    <tr>\n",
       "      <th>0</th>\n",
       "      <td>F:/UWL Study Documents/Dissertation/archive/DA...</td>\n",
       "      <td>O</td>\n",
       "    </tr>\n",
       "    <tr>\n",
       "      <th>1</th>\n",
       "      <td>F:/UWL Study Documents/Dissertation/archive/DA...</td>\n",
       "      <td>O</td>\n",
       "    </tr>\n",
       "    <tr>\n",
       "      <th>2</th>\n",
       "      <td>F:/UWL Study Documents/Dissertation/archive/DA...</td>\n",
       "      <td>O</td>\n",
       "    </tr>\n",
       "    <tr>\n",
       "      <th>3</th>\n",
       "      <td>F:/UWL Study Documents/Dissertation/archive/DA...</td>\n",
       "      <td>O</td>\n",
       "    </tr>\n",
       "    <tr>\n",
       "      <th>4</th>\n",
       "      <td>F:/UWL Study Documents/Dissertation/archive/DA...</td>\n",
       "      <td>O</td>\n",
       "    </tr>\n",
       "  </tbody>\n",
       "</table>\n",
       "</div>"
      ],
      "text/plain": [
       "                                                path label\n",
       "0  F:/UWL Study Documents/Dissertation/archive/DA...     O\n",
       "1  F:/UWL Study Documents/Dissertation/archive/DA...     O\n",
       "2  F:/UWL Study Documents/Dissertation/archive/DA...     O\n",
       "3  F:/UWL Study Documents/Dissertation/archive/DA...     O\n",
       "4  F:/UWL Study Documents/Dissertation/archive/DA...     O"
      ]
     },
     "execution_count": 5,
     "metadata": {},
     "output_type": "execute_result"
    }
   ],
   "source": [
    "test = get_img_paths(\"F:/UWL Study Documents/Dissertation/archive/DATASET/DATASET/TEST\")\n",
    "test.head()"
   ]
  },
  {
   "cell_type": "code",
   "execution_count": 6,
   "id": "2dfb2058",
   "metadata": {
    "execution": {
     "iopub.execute_input": "2022-10-28T13:46:03.774432Z",
     "iopub.status.busy": "2022-10-28T13:46:03.774095Z",
     "iopub.status.idle": "2022-10-28T13:46:03.788091Z",
     "shell.execute_reply": "2022-10-28T13:46:03.786783Z"
    },
    "papermill": {
     "duration": 0.02468,
     "end_time": "2022-10-28T13:46:03.790942",
     "exception": false,
     "start_time": "2022-10-28T13:46:03.766262",
     "status": "completed"
    },
    "tags": []
   },
   "outputs": [
    {
     "name": "stdout",
     "output_type": "stream",
     "text": [
      "<class 'pandas.core.frame.DataFrame'>\n",
      "RangeIndex: 2513 entries, 0 to 2512\n",
      "Data columns (total 2 columns):\n",
      " #   Column  Non-Null Count  Dtype \n",
      "---  ------  --------------  ----- \n",
      " 0   path    2513 non-null   object\n",
      " 1   label   2513 non-null   object\n",
      "dtypes: object(2)\n",
      "memory usage: 39.4+ KB\n"
     ]
    }
   ],
   "source": [
    "test.info()"
   ]
  },
  {
   "cell_type": "markdown",
   "id": "46d70291",
   "metadata": {
    "papermill": {
     "duration": 0.006987,
     "end_time": "2022-10-28T13:46:03.805741",
     "exception": false,
     "start_time": "2022-10-28T13:46:03.798754",
     "status": "completed"
    },
    "tags": []
   },
   "source": [
    "## Label Encoding"
   ]
  },
  {
   "cell_type": "code",
   "execution_count": 7,
   "id": "73b10b85",
   "metadata": {
    "execution": {
     "iopub.execute_input": "2022-10-28T13:46:03.821313Z",
     "iopub.status.busy": "2022-10-28T13:46:03.820594Z",
     "iopub.status.idle": "2022-10-28T13:46:03.835675Z",
     "shell.execute_reply": "2022-10-28T13:46:03.834578Z"
    },
    "papermill": {
     "duration": 0.025286,
     "end_time": "2022-10-28T13:46:03.838070",
     "exception": false,
     "start_time": "2022-10-28T13:46:03.812784",
     "status": "completed"
    },
    "tags": []
   },
   "outputs": [
    {
     "data": {
      "text/html": [
       "<div>\n",
       "<style scoped>\n",
       "    .dataframe tbody tr th:only-of-type {\n",
       "        vertical-align: middle;\n",
       "    }\n",
       "\n",
       "    .dataframe tbody tr th {\n",
       "        vertical-align: top;\n",
       "    }\n",
       "\n",
       "    .dataframe thead th {\n",
       "        text-align: right;\n",
       "    }\n",
       "</style>\n",
       "<table border=\"1\" class=\"dataframe\">\n",
       "  <thead>\n",
       "    <tr style=\"text-align: right;\">\n",
       "      <th></th>\n",
       "      <th>path</th>\n",
       "      <th>label</th>\n",
       "    </tr>\n",
       "  </thead>\n",
       "  <tbody>\n",
       "    <tr>\n",
       "      <th>0</th>\n",
       "      <td>F:/UWL Study Documents/Dissertation/archive/DA...</td>\n",
       "      <td>0</td>\n",
       "    </tr>\n",
       "    <tr>\n",
       "      <th>1</th>\n",
       "      <td>F:/UWL Study Documents/Dissertation/archive/DA...</td>\n",
       "      <td>0</td>\n",
       "    </tr>\n",
       "    <tr>\n",
       "      <th>2</th>\n",
       "      <td>F:/UWL Study Documents/Dissertation/archive/DA...</td>\n",
       "      <td>0</td>\n",
       "    </tr>\n",
       "    <tr>\n",
       "      <th>3</th>\n",
       "      <td>F:/UWL Study Documents/Dissertation/archive/DA...</td>\n",
       "      <td>0</td>\n",
       "    </tr>\n",
       "    <tr>\n",
       "      <th>4</th>\n",
       "      <td>F:/UWL Study Documents/Dissertation/archive/DA...</td>\n",
       "      <td>0</td>\n",
       "    </tr>\n",
       "  </tbody>\n",
       "</table>\n",
       "</div>"
      ],
      "text/plain": [
       "                                                path  label\n",
       "0  F:/UWL Study Documents/Dissertation/archive/DA...      0\n",
       "1  F:/UWL Study Documents/Dissertation/archive/DA...      0\n",
       "2  F:/UWL Study Documents/Dissertation/archive/DA...      0\n",
       "3  F:/UWL Study Documents/Dissertation/archive/DA...      0\n",
       "4  F:/UWL Study Documents/Dissertation/archive/DA...      0"
      ]
     },
     "execution_count": 7,
     "metadata": {},
     "output_type": "execute_result"
    }
   ],
   "source": [
    "conversion = {'O': 0, 'R': 1}\n",
    "\n",
    "train.label = train.label.map(conversion)\n",
    "test.label = test.label.map(conversion)\n",
    "\n",
    "train.head()"
   ]
  },
  {
   "cell_type": "markdown",
   "id": "b77e0b01",
   "metadata": {
    "papermill": {
     "duration": 0.006642,
     "end_time": "2022-10-28T13:46:03.851448",
     "exception": false,
     "start_time": "2022-10-28T13:46:03.844806",
     "status": "completed"
    },
    "tags": []
   },
   "source": [
    "## Dataset Generator"
   ]
  },
  {
   "cell_type": "code",
   "execution_count": 8,
   "id": "b0db748e",
   "metadata": {
    "execution": {
     "iopub.execute_input": "2022-10-28T13:46:03.866648Z",
     "iopub.status.busy": "2022-10-28T13:46:03.866274Z",
     "iopub.status.idle": "2022-10-28T13:46:03.873344Z",
     "shell.execute_reply": "2022-10-28T13:46:03.872269Z"
    },
    "papermill": {
     "duration": 0.017306,
     "end_time": "2022-10-28T13:46:03.875422",
     "exception": false,
     "start_time": "2022-10-28T13:46:03.858116",
     "status": "completed"
    },
    "tags": []
   },
   "outputs": [],
   "source": [
    "class WasteData(Dataset):\n",
    "    def __init__(self, dir_lbl, transform=None):\n",
    "        self.dir_lbl = dir_lbl\n",
    "        self.transform = transform\n",
    "\n",
    "    def __len__(self):\n",
    "        return len(self.dir_lbl)\n",
    "\n",
    "    def __getitem__(self, idx):\n",
    "        img_dir_lbl = self.dir_lbl.iloc[idx]\n",
    "        img_dir = img_dir_lbl.path\n",
    "        label = img_dir_lbl.label\n",
    "        image = Image.open(img_dir).convert('RGB')\n",
    "        \n",
    "        if self.transform:\n",
    "            image = self.transform(image)\n",
    "\n",
    "        return image, label"
   ]
  },
  {
   "cell_type": "code",
   "execution_count": 9,
   "id": "b5a9fe9e",
   "metadata": {
    "execution": {
     "iopub.execute_input": "2022-10-28T13:46:03.891108Z",
     "iopub.status.busy": "2022-10-28T13:46:03.890156Z",
     "iopub.status.idle": "2022-10-28T13:46:03.896495Z",
     "shell.execute_reply": "2022-10-28T13:46:03.895595Z"
    },
    "papermill": {
     "duration": 0.01643,
     "end_time": "2022-10-28T13:46:03.898604",
     "exception": false,
     "start_time": "2022-10-28T13:46:03.882174",
     "status": "completed"
    },
    "tags": []
   },
   "outputs": [],
   "source": [
    "data_transform = transforms.Compose([\n",
    "    transforms.Resize((256)),\n",
    "    transforms.ToTensor(),\n",
    "    transforms.CenterCrop(224),\n",
    "    transforms.Normalize(\n",
    "           mean=[0.485, 0.456, 0.406],\n",
    "           std=[0.229, 0.224, 0.225])\n",
    "])"
   ]
  },
  {
   "cell_type": "code",
   "execution_count": 10,
   "id": "7662d4de",
   "metadata": {
    "execution": {
     "iopub.execute_input": "2022-10-28T13:46:03.914436Z",
     "iopub.status.busy": "2022-10-28T13:46:03.913422Z",
     "iopub.status.idle": "2022-10-28T13:46:03.922562Z",
     "shell.execute_reply": "2022-10-28T13:46:03.921548Z"
    },
    "papermill": {
     "duration": 0.019377,
     "end_time": "2022-10-28T13:46:03.924825",
     "exception": false,
     "start_time": "2022-10-28T13:46:03.905448",
     "status": "completed"
    },
    "tags": []
   },
   "outputs": [],
   "source": [
    "train_dataset = WasteData(train, data_transform)\n",
    "train_dataset\n",
    "\n",
    "train_size = int(0.9 * len(train_dataset))\n",
    "valid_size = len(train_dataset) - train_size\n",
    "train_dataset, valid_dataset = torch.utils.data.random_split(train_dataset, [train_size, valid_size])"
   ]
  },
  {
   "cell_type": "code",
   "execution_count": 11,
   "id": "bf6cfc09",
   "metadata": {
    "execution": {
     "iopub.execute_input": "2022-10-28T13:46:03.940703Z",
     "iopub.status.busy": "2022-10-28T13:46:03.939747Z",
     "iopub.status.idle": "2022-10-28T13:46:03.947254Z",
     "shell.execute_reply": "2022-10-28T13:46:03.946161Z"
    },
    "papermill": {
     "duration": 0.017836,
     "end_time": "2022-10-28T13:46:03.949554",
     "exception": false,
     "start_time": "2022-10-28T13:46:03.931718",
     "status": "completed"
    },
    "tags": []
   },
   "outputs": [
    {
     "data": {
      "text/plain": [
       "<__main__.WasteData at 0x1cb0aad32b0>"
      ]
     },
     "execution_count": 11,
     "metadata": {},
     "output_type": "execute_result"
    }
   ],
   "source": [
    "test_dataset = WasteData(test, data_transform)\n",
    "test_dataset"
   ]
  },
  {
   "cell_type": "code",
   "execution_count": 12,
   "id": "dfdbda81",
   "metadata": {
    "execution": {
     "iopub.execute_input": "2022-10-28T13:46:03.965835Z",
     "iopub.status.busy": "2022-10-28T13:46:03.964937Z",
     "iopub.status.idle": "2022-10-28T13:46:03.971182Z",
     "shell.execute_reply": "2022-10-28T13:46:03.970221Z"
    },
    "papermill": {
     "duration": 0.016567,
     "end_time": "2022-10-28T13:46:03.973396",
     "exception": false,
     "start_time": "2022-10-28T13:46:03.956829",
     "status": "completed"
    },
    "tags": []
   },
   "outputs": [],
   "source": [
    "batch_size = 64\n",
    "\n",
    "train_dataloader = DataLoader(train_dataset, batch_size=batch_size, shuffle=True)\n",
    "test_dataloader = DataLoader(test_dataset, batch_size=batch_size, shuffle=True)\n",
    "valid_dataloader = DataLoader(valid_dataset, batch_size=batch_size, shuffle=True)"
   ]
  },
  {
   "cell_type": "markdown",
   "id": "f1e8b897",
   "metadata": {
    "papermill": {
     "duration": 0.007095,
     "end_time": "2022-10-28T13:46:03.987633",
     "exception": false,
     "start_time": "2022-10-28T13:46:03.980538",
     "status": "completed"
    },
    "tags": []
   },
   "source": [
    "## Display Preprocessed Image Sample"
   ]
  },
  {
   "cell_type": "code",
   "execution_count": 13,
   "id": "76e56469",
   "metadata": {
    "execution": {
     "iopub.execute_input": "2022-10-28T13:46:04.003935Z",
     "iopub.status.busy": "2022-10-28T13:46:04.002965Z",
     "iopub.status.idle": "2022-10-28T13:46:09.444198Z",
     "shell.execute_reply": "2022-10-28T13:46:09.443223Z"
    },
    "papermill": {
     "duration": 5.451519,
     "end_time": "2022-10-28T13:46:09.446441",
     "exception": false,
     "start_time": "2022-10-28T13:46:03.994922",
     "status": "completed"
    },
    "tags": []
   },
   "outputs": [
    {
     "name": "stderr",
     "output_type": "stream",
     "text": [
      "Clipping input data to the valid range for imshow with RGB data ([0..1] for floats or [0..255] for integers).\n"
     ]
    },
    {
     "name": "stdout",
     "output_type": "stream",
     "text": [
      "Label 1: 0\n"
     ]
    },
    {
     "data": {
      "image/png": "[encoded data removed]",
      "text/plain": [
       "<Figure size 432x288 with 1 Axes>"
      ]
     },
     "metadata": {
      "needs_background": "light"
     },
     "output_type": "display_data"
    },
    {
     "name": "stderr",
     "output_type": "stream",
     "text": [
      "Clipping input data to the valid range for imshow with RGB data ([0..1] for floats or [0..255] for integers).\n"
     ]
    },
    {
     "name": "stdout",
     "output_type": "stream",
     "text": [
      "Label 2: 1\n"
     ]
    },
    {
     "data": {
      "image/png": "[encoded data removed]",
      "text/plain": [
       "<Figure size 432x288 with 1 Axes>"
      ]
     },
     "metadata": {
      "needs_background": "light"
     },
     "output_type": "display_data"
    },
    {
     "name": "stderr",
     "output_type": "stream",
     "text": [
      "Clipping input data to the valid range for imshow with RGB data ([0..1] for floats or [0..255] for integers).\n"
     ]
    },
    {
     "name": "stdout",
     "output_type": "stream",
     "text": [
      "Label 3: 0\n"
     ]
    },
    {
     "data": {
      "image/png": "[encoded data removed]",
      "text/plain": [
       "<Figure size 432x288 with 1 Axes>"
      ]
     },
     "metadata": {
      "needs_background": "light"
     },
     "output_type": "display_data"
    },
    {
     "name": "stderr",
     "output_type": "stream",
     "text": [
      "Clipping input data to the valid range for imshow with RGB data ([0..1] for floats or [0..255] for integers).\n"
     ]
    },
    {
     "name": "stdout",
     "output_type": "stream",
     "text": [
      "Label 4: 1\n"
     ]
    },
    {
     "data": {
      "image/png": "[encoded data removed]",
      "text/plain": [
       "<Figure size 432x288 with 1 Axes>"
      ]
     },
     "metadata": {
      "needs_background": "light"
     },
     "output_type": "display_data"
    },
    {
     "name": "stderr",
     "output_type": "stream",
     "text": [
      "Clipping input data to the valid range for imshow with RGB data ([0..1] for floats or [0..255] for integers).\n"
     ]
    },
    {
     "name": "stdout",
     "output_type": "stream",
     "text": [
      "Label 5: 1\n"
     ]
    },
    {
     "data": {
      "image/png": "[encoded data removed]",
      "text/plain": [
       "<Figure size 432x288 with 1 Axes>"
      ]
     },
     "metadata": {
      "needs_background": "light"
     },
     "output_type": "display_data"
    }
   ],
   "source": [
    "for i in range(5):\n",
    "    train_features, train_labels = next(iter(train_dataloader))\n",
    "    img = train_features[0].squeeze().numpy().transpose((1, 2, 0))\n",
    "\n",
    "    label = train_labels[0]\n",
    "    print(f\"Label {i+1}: {label}\")\n",
    "    plt.imshow(img)\n",
    "    plt.show()"
   ]
  },
  {
   "cell_type": "markdown",
   "id": "59ebf79a",
   "metadata": {
    "papermill": {
     "duration": 0.014351,
     "end_time": "2022-10-28T13:46:09.475347",
     "exception": false,
     "start_time": "2022-10-28T13:46:09.460996",
     "status": "completed"
    },
    "tags": []
   },
   "source": [
    "## Enable GPU"
   ]
  },
  {
   "cell_type": "code",
   "execution_count": 14,
   "id": "78dc6102",
   "metadata": {
    "execution": {
     "iopub.execute_input": "2022-10-28T13:46:09.503861Z",
     "iopub.status.busy": "2022-10-28T13:46:09.503512Z",
     "iopub.status.idle": "2022-10-28T13:46:09.577516Z",
     "shell.execute_reply": "2022-10-28T13:46:09.576528Z"
    },
    "papermill": {
     "duration": 0.091284,
     "end_time": "2022-10-28T13:46:09.579877",
     "exception": false,
     "start_time": "2022-10-28T13:46:09.488593",
     "status": "completed"
    },
    "tags": []
   },
   "outputs": [
    {
     "name": "stdout",
     "output_type": "stream",
     "text": [
      "cpu\n"
     ]
    }
   ],
   "source": [
    "device = torch.device('cuda:0' if torch.cuda.is_available() else 'cpu')\n",
    "\n",
    "print(device)"
   ]
  },
  {
   "cell_type": "markdown",
   "id": "aa86ffe4",
   "metadata": {
    "papermill": {
     "duration": 0.014022,
     "end_time": "2022-10-28T13:46:09.608992",
     "exception": false,
     "start_time": "2022-10-28T13:46:09.594970",
     "status": "completed"
    },
    "tags": []
   },
   "source": [
    "## Construct Model"
   ]
  },
  {
   "cell_type": "code",
   "execution_count": 15,
   "id": "7fe2cf03",
   "metadata": {
    "execution": {
     "iopub.execute_input": "2022-10-28T13:46:09.638376Z",
     "iopub.status.busy": "2022-10-28T13:46:09.637356Z",
     "iopub.status.idle": "2022-10-28T13:46:13.368142Z",
     "shell.execute_reply": "2022-10-28T13:46:13.367034Z"
    },
    "papermill": {
     "duration": 3.748204,
     "end_time": "2022-10-28T13:46:13.371037",
     "exception": false,
     "start_time": "2022-10-28T13:46:09.622833",
     "status": "completed"
    },
    "tags": []
   },
   "outputs": [],
   "source": [
    "class Net(nn.Module):\n",
    "    def __init__(self):\n",
    "        super().__init__()\n",
    "        \n",
    "        self.conv1 = nn.Conv2d(3, 8, 3)\n",
    "        self.conv2 = nn.Conv2d(8, 16, 3)\n",
    "        self.pool = nn.MaxPool2d(2, 2)\n",
    "        \n",
    "        self.conv3 = nn.Conv2d(16, 32, 3)\n",
    "        self.conv4 = nn.Conv2d(32, 32, 3)\n",
    "    \n",
    "        self.conv5 = nn.Conv2d(32, 64, 3)\n",
    "        self.conv6 = nn.Conv2d(64, 64, 3)\n",
    "            \n",
    "        self.fc1 = nn.Linear(64*24*24, 1024)\n",
    "        self.fc2 = nn.Linear(1024, 512)\n",
    "        self.fc3 = nn.Linear(512, 10)\n",
    "        self.fc4 = nn.Linear(10, 1)\n",
    "        \n",
    "    def forward(self, x):\n",
    "        x = F.relu(self.conv1(x))\n",
    "        x = self.pool(F.relu(self.conv2(x)))\n",
    "        \n",
    "        x = F.relu(self.conv3(x))\n",
    "        x = self.pool(F.relu(self.conv4(x)))\n",
    "        \n",
    "        x = F.relu(self.conv5(x))\n",
    "        x = self.pool(F.relu(self.conv6(x)))\n",
    "        x = torch.flatten(x, 1) # flatten all dimensions except batch\n",
    "        x = F.relu(self.fc1(x))\n",
    "        x = F.relu(self.fc2(x))\n",
    "        x = F.relu(self.fc3(x))\n",
    "        x = torch.sigmoid(self.fc4(x))\n",
    "        return x\n",
    "    \n",
    "net = Net().to(device)"
   ]
  },
  {
   "cell_type": "code",
   "execution_count": 16,
   "id": "89bd763f",
   "metadata": {
    "execution": {
     "iopub.execute_input": "2022-10-28T13:46:13.404980Z",
     "iopub.status.busy": "2022-10-28T13:46:13.403037Z",
     "iopub.status.idle": "2022-10-28T13:46:13.410574Z",
     "shell.execute_reply": "2022-10-28T13:46:13.409546Z"
    },
    "papermill": {
     "duration": 0.026701,
     "end_time": "2022-10-28T13:46:13.413050",
     "exception": false,
     "start_time": "2022-10-28T13:46:13.386349",
     "status": "completed"
    },
    "tags": []
   },
   "outputs": [],
   "source": [
    "import torch.optim as optim\n",
    "\n",
    "criterion = nn.BCELoss()\n",
    "optimizer = optim.Adam(net.parameters(), lr=0.0005)"
   ]
  },
  {
   "cell_type": "markdown",
   "id": "46813d89",
   "metadata": {
    "papermill": {
     "duration": 0.014904,
     "end_time": "2022-10-28T13:46:13.443100",
     "exception": false,
     "start_time": "2022-10-28T13:46:13.428196",
     "status": "completed"
    },
    "tags": []
   },
   "source": [
    "## Training"
   ]
  },
  {
   "cell_type": "markdown",
   "id": "7a120947",
   "metadata": {
    "papermill": {
     "duration": 0.014755,
     "end_time": "2022-10-28T13:46:13.473235",
     "exception": false,
     "start_time": "2022-10-28T13:46:13.458480",
     "status": "completed"
    },
    "tags": []
   },
   "source": [
    "We will use early stopping to get the best validation errors. this happens in 4 epochs"
   ]
  },
  {
   "cell_type": "markdown",
   "id": "dce41ffb",
   "metadata": {},
   "source": [
    " Computational Graph of CNN model in TensorBoard"
   ]
  },
  {
   "cell_type": "code",
   "execution_count": 17,
   "id": "6416d1af",
   "metadata": {},
   "outputs": [],
   "source": [
    "# Import the necessary library\n",
    "from torch.utils.tensorboard import SummaryWriter\n",
    "\n",
    "# Create a SummaryWriter\n",
    "writer = SummaryWriter(log_dir=\"F:/UWL Study Documents/Dissertation/Dataset1_Logs\")  "
   ]
  },
  {
   "cell_type": "code",
   "execution_count": 18,
   "id": "6aa44986",
   "metadata": {},
   "outputs": [],
   "source": [
    "import tensorflow as tf\n",
    "\n",
    "# Define the path to log directory\n",
    "log_dir = \"F:/UWL Study Documents/Dissertation/Dataset1_Logs\"\n",
    "\n",
    "# Create a summary writer\n",
    "tensorboard_callback = tf.keras.callbacks.TensorBoard(log_dir=log_dir, histogram_freq=1)"
   ]
  },
  {
   "cell_type": "code",
   "execution_count": 19,
   "id": "d9b330b3",
   "metadata": {
    "execution": {
     "iopub.execute_input": "2022-10-28T13:46:13.506834Z",
     "iopub.status.busy": "2022-10-28T13:46:13.504865Z",
     "iopub.status.idle": "2022-10-28T13:58:53.783789Z",
     "shell.execute_reply": "2022-10-28T13:58:53.781986Z"
    },
    "papermill": {
     "duration": 760.297949,
     "end_time": "2022-10-28T13:58:53.786338",
     "exception": false,
     "start_time": "2022-10-28T13:46:13.488389",
     "status": "completed"
    },
    "tags": []
   },
   "outputs": [
    {
     "name": "stdout",
     "output_type": "stream",
     "text": [
      "Training:\n",
      "\t[1,    10] loss: 0.687215\n",
      "\t[1,    20] loss: 0.664950\n",
      "\t[1,    30] loss: 0.624257\n",
      "\t[1,    40] loss: 0.546994\n",
      "\t[1,    50] loss: 0.500395\n",
      "\t[1,    60] loss: 0.441084\n",
      "\t[1,    70] loss: 0.407884\n",
      "\t[1,    80] loss: 0.516479\n",
      "\t[1,    90] loss: 0.450007\n",
      "\t[1,   100] loss: 0.409865\n",
      "\t[1,   110] loss: 0.449562\n",
      "\t[1,   120] loss: 0.396103\n",
      "\t[1,   130] loss: 0.455552\n",
      "\t[1,   140] loss: 0.429867\n",
      "\t[1,   150] loss: 0.412052\n",
      "\t[1,   160] loss: 0.424602\n",
      "\t[1,   170] loss: 0.423666\n",
      "\t[1,   180] loss: 0.458871\n",
      "\t[1,   190] loss: 0.432385\n",
      "\t[1,   200] loss: 0.418016\n",
      "\t[1,   210] loss: 0.407038\n",
      "\t[1,   220] loss: 0.463197\n",
      "\t[1,   230] loss: 0.455293\n",
      "\t[1,   240] loss: 0.440288\n",
      "\t[1,   250] loss: 0.417530\n",
      "\t[1,   260] loss: 0.457723\n",
      "\t[1,   270] loss: 0.387823\n",
      "\t[1,   280] loss: 0.444428\n",
      "\t[1,   290] loss: 0.375910\n",
      "\t[1,   300] loss: 0.427030\n",
      "\t[1,   310] loss: 0.402274\n",
      "Validation:\n",
      "\t[1,    10] loss: 0.430732\n",
      "\t[1,    20] loss: 0.390396\n",
      "\t[1,    30] loss: 0.419006\n",
      "Training:\n",
      "\t[2,    10] loss: 0.393705\n",
      "\t[2,    20] loss: 0.467616\n",
      "\t[2,    30] loss: 0.480024\n",
      "\t[2,    40] loss: 0.409401\n",
      "\t[2,    50] loss: 0.429681\n",
      "\t[2,    60] loss: 0.435395\n",
      "\t[2,    70] loss: 0.423349\n",
      "\t[2,    80] loss: 0.441590\n",
      "\t[2,    90] loss: 0.414189\n",
      "\t[2,   100] loss: 0.360346\n",
      "\t[2,   110] loss: 0.408339\n",
      "\t[2,   120] loss: 0.388428\n",
      "\t[2,   130] loss: 0.408639\n",
      "\t[2,   140] loss: 0.408516\n",
      "\t[2,   150] loss: 0.392858\n",
      "\t[2,   160] loss: 0.414932\n",
      "\t[2,   170] loss: 0.447743\n",
      "\t[2,   180] loss: 0.389891\n",
      "\t[2,   190] loss: 0.358747\n",
      "\t[2,   200] loss: 0.400879\n",
      "\t[2,   210] loss: 0.420503\n",
      "\t[2,   220] loss: 0.462329\n",
      "\t[2,   230] loss: 0.405537\n",
      "\t[2,   240] loss: 0.399965\n",
      "\t[2,   250] loss: 0.380536\n",
      "\t[2,   260] loss: 0.409587\n",
      "\t[2,   270] loss: 0.368778\n",
      "\t[2,   280] loss: 0.355231\n",
      "\t[2,   290] loss: 0.363326\n",
      "\t[2,   300] loss: 0.340942\n",
      "\t[2,   310] loss: 0.472760\n",
      "Validation:\n",
      "\t[2,    10] loss: 0.407145\n",
      "\t[2,    20] loss: 0.435695\n",
      "\t[2,    30] loss: 0.424682\n",
      "Training:\n",
      "\t[3,    10] loss: 0.443440\n",
      "\t[3,    20] loss: 0.366538\n",
      "\t[3,    30] loss: 0.384152\n",
      "\t[3,    40] loss: 0.401773\n",
      "\t[3,    50] loss: 0.358330\n",
      "\t[3,    60] loss: 0.368121\n",
      "\t[3,    70] loss: 0.331730\n",
      "\t[3,    80] loss: 0.384889\n",
      "\t[3,    90] loss: 0.364580\n",
      "\t[3,   100] loss: 0.355438\n",
      "\t[3,   110] loss: 0.368180\n",
      "\t[3,   120] loss: 0.344600\n",
      "\t[3,   130] loss: 0.404481\n",
      "\t[3,   140] loss: 0.359015\n",
      "\t[3,   150] loss: 0.399285\n",
      "\t[3,   160] loss: 0.378812\n",
      "\t[3,   170] loss: 0.365057\n",
      "\t[3,   180] loss: 0.295948\n",
      "\t[3,   190] loss: 0.376930\n",
      "\t[3,   200] loss: 0.371083\n",
      "\t[3,   210] loss: 0.408097\n",
      "\t[3,   220] loss: 0.360224\n",
      "\t[3,   230] loss: 0.345706\n",
      "\t[3,   240] loss: 0.344547\n",
      "\t[3,   250] loss: 0.359753\n",
      "\t[3,   260] loss: 0.375645\n",
      "\t[3,   270] loss: 0.362710\n",
      "\t[3,   280] loss: 0.340879\n",
      "\t[3,   290] loss: 0.334160\n",
      "\t[3,   300] loss: 0.364243\n",
      "\t[3,   310] loss: 0.405899\n",
      "Validation:\n",
      "\t[3,    10] loss: 0.373184\n",
      "\t[3,    20] loss: 0.357806\n",
      "\t[3,    30] loss: 0.342756\n",
      "Training:\n",
      "\t[4,    10] loss: 0.364489\n",
      "\t[4,    20] loss: 0.336320\n",
      "\t[4,    30] loss: 0.365940\n",
      "\t[4,    40] loss: 0.355966\n",
      "\t[4,    50] loss: 0.340463\n",
      "\t[4,    60] loss: 0.310764\n",
      "\t[4,    70] loss: 0.367857\n",
      "\t[4,    80] loss: 0.334948\n",
      "\t[4,    90] loss: 0.327055\n",
      "\t[4,   100] loss: 0.307512\n",
      "\t[4,   110] loss: 0.372952\n",
      "\t[4,   120] loss: 0.353043\n",
      "\t[4,   130] loss: 0.338832\n",
      "\t[4,   140] loss: 0.372423\n",
      "\t[4,   150] loss: 0.339715\n",
      "\t[4,   160] loss: 0.345830\n",
      "\t[4,   170] loss: 0.330519\n",
      "\t[4,   180] loss: 0.292092\n",
      "\t[4,   190] loss: 0.332110\n",
      "\t[4,   200] loss: 0.346800\n",
      "\t[4,   210] loss: 0.369274\n",
      "\t[4,   220] loss: 0.356683\n",
      "\t[4,   230] loss: 0.317316\n",
      "\t[4,   240] loss: 0.307378\n",
      "\t[4,   250] loss: 0.357281\n",
      "\t[4,   260] loss: 0.295351\n",
      "\t[4,   270] loss: 0.393228\n",
      "\t[4,   280] loss: 0.325740\n",
      "\t[4,   290] loss: 0.392703\n",
      "\t[4,   300] loss: 0.361305\n",
      "\t[4,   310] loss: 0.343607\n",
      "Validation:\n",
      "\t[4,    10] loss: 0.354292\n",
      "\t[4,    20] loss: 0.356235\n",
      "\t[4,    30] loss: 0.383030\n",
      "Finished Training and Validation\n"
     ]
    }
   ],
   "source": [
    "train_loss = []\n",
    "val_loss = []\n",
    "epochs = 4\n",
    "train_steps = len(train_dataloader)\n",
    "valid_steps = len(valid_dataloader)\n",
    "for epoch in range(epochs): \n",
    "    epoch_loss = 0.0\n",
    "    epoch_loss_val = 0.0\n",
    "    running_loss = 0.0\n",
    "    print('Training:')\n",
    "    for i, data in enumerate(train_dataloader, 0):\n",
    "        inputs, labels = data[0].to(device), data[1].float().to(device)\n",
    "\n",
    "        optimizer.zero_grad()\n",
    "\n",
    "        outputs = net(inputs).squeeze()\n",
    "        loss = criterion(outputs, labels)\n",
    "        loss.backward()\n",
    "        optimizer.step()\n",
    "\n",
    "        running_loss += loss.item()\n",
    "        if i % 10 == 9:\n",
    "            loss = running_loss / 10\n",
    "            epoch_loss += loss\n",
    "            print(f'\\t[{epoch + 1}, {i + 1:5d}] loss: {loss:.6f}')\n",
    "            running_loss = 0.0\n",
    "     \n",
    "    print('Validation:')\n",
    "    running_loss_valid = 0.0\n",
    "    for i, data in enumerate(valid_dataloader, 0):\n",
    "        with torch.no_grad():\n",
    "            inputs, labels = data[0].to(device), data[1].float().to(device)\n",
    "\n",
    "            outputs = net(inputs).squeeze()\n",
    "            loss = criterion(outputs, labels)\n",
    "\n",
    "            running_loss_valid += loss.item()\n",
    "            if i % 10 == 9:\n",
    "                loss = running_loss_valid / 10\n",
    "                epoch_loss_val += loss\n",
    "                print(f'\\t[{epoch + 1}, {i + 1:5d}] loss: {loss:.6f}')\n",
    "                running_loss_valid = 0.0\n",
    "                \n",
    "            # Log learning rate\n",
    "            current_lr = optimizer.param_groups[0]['lr']\n",
    "            writer.add_scalar(\"Learning Rate\", current_lr, epoch * len(train_dataloader) + i)\n",
    "            \n",
    "            # Log histograms of model parameters\n",
    "            if i % 10 == 9:\n",
    "                for name, param in net.named_parameters():\n",
    "                    writer.add_histogram(name, param, epoch * len(train_dataloader) + i)\n",
    "                \n",
    "    train_loss.append(epoch_loss)\n",
    "    val_loss.append(epoch_loss_val)\n",
    "\n",
    "print('Finished Training and Validation')\n",
    "\n",
    "if i % 10 == 9:\n",
    "    writer.add_graph(net, inputs)\n",
    "\n",
    "# Close the writer\n",
    "writer.close()"
   ]
  },
  {
   "cell_type": "code",
   "execution_count": 20,
   "id": "2bf5d6c9",
   "metadata": {},
   "outputs": [],
   "source": [
    "# Calculating training loss and adding it to TensorBoard\n",
    "train_loss.append(epoch_loss)\n",
    "writer.add_scalar(\"Loss/Train\", epoch_loss, epoch)"
   ]
  },
  {
   "cell_type": "code",
   "execution_count": 21,
   "id": "b03d1dff",
   "metadata": {},
   "outputs": [],
   "source": [
    "# Calculating validation loss and adding it to TensorBoard\n",
    "val_loss.append(epoch_loss_val)\n",
    "writer.add_scalar(\"Loss/Validation\", epoch_loss_val, epoch)"
   ]
  },
  {
   "cell_type": "code",
   "execution_count": 22,
   "id": "6b034cca",
   "metadata": {},
   "outputs": [],
   "source": [
    "save_path = 'cnn_model.pth'"
   ]
  },
  {
   "cell_type": "code",
   "execution_count": 23,
   "id": "f2ec2ba2",
   "metadata": {},
   "outputs": [],
   "source": [
    "# Save the trained model\n",
    "torch.save(net.state_dict(), save_path)"
   ]
  },
  {
   "cell_type": "code",
   "execution_count": 24,
   "id": "3ed4ef97",
   "metadata": {},
   "outputs": [
    {
     "name": "stdout",
     "output_type": "stream",
     "text": [
      "5\n",
      "5\n"
     ]
    }
   ],
   "source": [
    "print(len(train_loss))\n",
    "print(len(val_loss))"
   ]
  },
  {
   "cell_type": "code",
   "execution_count": 25,
   "id": "c55887bb",
   "metadata": {},
   "outputs": [],
   "source": [
    "writer.close()"
   ]
  },
  {
   "cell_type": "markdown",
   "id": "800771b1",
   "metadata": {
    "papermill": {
     "duration": 0.023127,
     "end_time": "2022-10-28T13:58:54.190825",
     "exception": false,
     "start_time": "2022-10-28T13:58:54.167698",
     "status": "completed"
    },
    "tags": []
   },
   "source": [
    "## Testing"
   ]
  },
  {
   "cell_type": "code",
   "execution_count": 26,
   "id": "b9bf6d0e",
   "metadata": {
    "execution": {
     "iopub.execute_input": "2022-10-28T13:58:54.238375Z",
     "iopub.status.busy": "2022-10-28T13:58:54.237980Z",
     "iopub.status.idle": "2022-10-28T13:59:23.384634Z",
     "shell.execute_reply": "2022-10-28T13:59:23.383192Z"
    },
    "papermill": {
     "duration": 29.1742,
     "end_time": "2022-10-28T13:59:23.387671",
     "exception": false,
     "start_time": "2022-10-28T13:58:54.213471",
     "status": "completed"
    },
    "tags": []
   },
   "outputs": [
    {
     "name": "stdout",
     "output_type": "stream",
     "text": [
      "Accuracy of the network on the 2513 test images: 87 %\n"
     ]
    }
   ],
   "source": [
    "correct = 0\n",
    "total = 0\n",
    "with torch.no_grad():\n",
    "    for data in test_dataloader:\n",
    "        images, labels = data[0].to(device), data[1].float().to(device)\n",
    "        outputs = net(images)\n",
    "        predicted = torch.round(outputs.data).squeeze()\n",
    "        total += labels.size(0)\n",
    "        correct += (predicted == labels).sum().item()\n",
    "\n",
    "print(f'Accuracy of the network on the {total} test images: {100 * correct // total} %')"
   ]
  },
  {
   "cell_type": "markdown",
   "id": "082a7822",
   "metadata": {},
   "source": [
    "# Random Forest"
   ]
  },
  {
   "cell_type": "code",
   "execution_count": 27,
   "id": "ecea307d",
   "metadata": {},
   "outputs": [
    {
     "name": "stdout",
     "output_type": "stream",
     "text": [
      "Requirement already satisfied: opencv-python in c:\\programdata\\anaconda3\\lib\\site-packages (4.8.0.76)\n",
      "Requirement already satisfied: numpy>=1.17.0 in c:\\programdata\\anaconda3\\lib\\site-packages (from opencv-python) (1.22.4)\n"
     ]
    }
   ],
   "source": [
    "!pip install opencv-python"
   ]
  },
  {
   "cell_type": "code",
   "execution_count": 28,
   "id": "5f074c03",
   "metadata": {},
   "outputs": [],
   "source": [
    "# Function to extract features from an image\n",
    "def extract_features(image_path, new_width, new_height):\n",
    "    image = cv2.imread(image_path)\n",
    "    gray_image = cv2.cvtColor(image, cv2.COLOR_BGR2GRAY)\n",
    "    \n",
    "    # Resize the image to the specified dimensions\n",
    "    resized_image = cv2.resize(gray_image, (new_width, new_height))\n",
    "    \n",
    "    hog_features = cv2.HOGDescriptor().compute(resized_image)\n",
    "    color_hist = cv2.calcHist([image], [0, 1, 2], None, [8, 8, 8], [0, 256, 0, 256, 0, 256])\n",
    "    return np.concatenate((hog_features, color_hist.flatten()))"
   ]
  },
  {
   "cell_type": "code",
   "execution_count": 29,
   "id": "f0cbe7c2",
   "metadata": {},
   "outputs": [],
   "source": [
    "# Load images and extract features\n",
    "train_directory = 'F:/UWL Study Documents/Dissertation/archive/DATASET/DATASET/TRAIN'\n",
    "test_directory = 'F:/UWL Study Documents/Dissertation/archive/DATASET/DATASET/TEST'\n",
    "image_classes = ['O', 'R']\n",
    "data = []\n",
    "labels = []\n",
    "\n",
    "data = []\n",
    "labels = []\n",
    "\n",
    "for class_name in image_classes:\n",
    "    train_class_directory = os.path.join(train_directory, class_name)\n",
    "    test_class_directory = os.path.join(test_directory, class_name)\n",
    "    \n",
    "    for image_filename in os.listdir(train_class_directory):\n",
    "        image_path = os.path.join(train_class_directory, image_filename)  # Corrected image path\n",
    "        features = extract_features(image_path, new_width=64, new_height=128)\n",
    "        data.append(features)\n",
    "        labels.append(class_name)  # Use class_name as label\n",
    "\n",
    "# Split the data into training and testing sets\n",
    "X_train, X_test, y_train, y_test = train_test_split(data, labels, test_size=0.2, random_state=42)"
   ]
  },
  {
   "cell_type": "code",
   "execution_count": 30,
   "id": "1aba65d9",
   "metadata": {},
   "outputs": [],
   "source": [
    "# Preprocessing\n",
    "new_width, new_height = 64, 128"
   ]
  },
  {
   "cell_type": "code",
   "execution_count": 31,
   "id": "5a6ab402",
   "metadata": {},
   "outputs": [],
   "source": [
    "# Resize and extract features for each image\n",
    "processed_data = []\n",
    "for features, label in zip(X_train, y_train):\n",
    "    processed_data.append((features, label))"
   ]
  },
  {
   "cell_type": "code",
   "execution_count": 32,
   "id": "46bcfa86",
   "metadata": {},
   "outputs": [],
   "source": [
    "# Split the processed data into features and labels\n",
    "X_train_processed = [data[0] for data in processed_data]\n",
    "y_train_processed = [data[1] for data in processed_data]"
   ]
  },
  {
   "cell_type": "code",
   "execution_count": 33,
   "id": "ebbab42e",
   "metadata": {},
   "outputs": [
    {
     "data": {
      "text/plain": [
       "RandomForestClassifier(random_state=42)"
      ]
     },
     "execution_count": 33,
     "metadata": {},
     "output_type": "execute_result"
    }
   ],
   "source": [
    "# Train a Random Forest classifier\n",
    "random_forest_classifier = RandomForestClassifier(n_estimators=100, random_state=42)\n",
    "random_forest_classifier.fit(X_train_processed, y_train_processed)"
   ]
  },
  {
   "cell_type": "code",
   "execution_count": 34,
   "id": "27c66a66",
   "metadata": {},
   "outputs": [],
   "source": [
    "# Preprocess test data\n",
    "processed_test_data = []\n",
    "for features, label in zip(X_test, y_test):\n",
    "    processed_test_data.append((features, label))"
   ]
  },
  {
   "cell_type": "code",
   "execution_count": 35,
   "id": "4ff31079",
   "metadata": {},
   "outputs": [],
   "source": [
    "# Split the processed test data into features and labels\n",
    "X_test_processed = [data[0] for data in processed_test_data]\n",
    "y_test_processed = [data[1] for data in processed_test_data]"
   ]
  },
  {
   "cell_type": "code",
   "execution_count": 36,
   "id": "ffa8f4a6",
   "metadata": {},
   "outputs": [],
   "source": [
    "# Predict on the test set\n",
    "y_pred = random_forest_classifier.predict(X_test_processed)"
   ]
  },
  {
   "cell_type": "code",
   "execution_count": 37,
   "id": "775df22e",
   "metadata": {},
   "outputs": [
    {
     "name": "stdout",
     "output_type": "stream",
     "text": [
      "Accuracy: 0.88\n"
     ]
    }
   ],
   "source": [
    "# Calculate accuracy\n",
    "accuracy = accuracy_score(y_test_processed, y_pred)\n",
    "print(f\"Accuracy: {accuracy:.2f}\")"
   ]
  },
  {
   "cell_type": "code",
   "execution_count": 38,
   "id": "476c865c",
   "metadata": {},
   "outputs": [
    {
     "name": "stdout",
     "output_type": "stream",
     "text": [
      "              precision    recall  f1-score   support\n",
      "\n",
      "     Organic       0.89      0.90      0.89      2553\n",
      "  Recyclable       0.86      0.85      0.86      1960\n",
      "\n",
      "    accuracy                           0.88      4513\n",
      "   macro avg       0.87      0.87      0.87      4513\n",
      "weighted avg       0.88      0.88      0.88      4513\n",
      "\n"
     ]
    },
    {
     "data": {
      "image/png": "[encoded data removed]",
      "text/plain": [
       "<Figure size 576x432 with 2 Axes>"
      ]
     },
     "metadata": {
      "needs_background": "light"
     },
     "output_type": "display_data"
    }
   ],
   "source": [
    "# Print classification report\n",
    "class_names = ['Organic', 'Recyclable']\n",
    "print(classification_report(y_test_processed, y_pred, target_names=class_names))\n",
    "\n",
    "\n",
    "# Plot confusion matrix\n",
    "conf_matrix = confusion_matrix(y_test_processed, y_pred)\n",
    "plt.figure(figsize=(8, 6))\n",
    "sns.heatmap(conf_matrix, annot=True, fmt=\"d\", cmap=\"Blues\", xticklabels=class_names, yticklabels=class_names)\n",
    "plt.xlabel(\"Predicted Labels\")\n",
    "plt.ylabel(\"True Labels\")\n",
    "plt.title(\"Confusion Matrix\")\n",
    "plt.show()"
   ]
  },
  {
   "cell_type": "markdown",
   "id": "156163e2",
   "metadata": {},
   "source": [
    "# Knn Algorithm"
   ]
  },
  {
   "cell_type": "code",
   "execution_count": 39,
   "id": "4beda924",
   "metadata": {},
   "outputs": [],
   "source": [
    "# Split the data into training and testing sets\n",
    "X_train, X_test, y_train, y_test = train_test_split(data, labels, test_size=0.2, random_state=42)"
   ]
  },
  {
   "cell_type": "code",
   "execution_count": 40,
   "id": "8d5d89cb",
   "metadata": {},
   "outputs": [],
   "source": [
    "# Preprocessing steps\n",
    "# 1. Handling missing values\n",
    "imputer = SimpleImputer(strategy='mean')\n",
    "X_train = imputer.fit_transform(X_train)\n",
    "X_test = imputer.transform(X_test)"
   ]
  },
  {
   "cell_type": "code",
   "execution_count": 41,
   "id": "4687032c",
   "metadata": {},
   "outputs": [],
   "source": [
    "# 2. Feature scaling\n",
    "scaler = StandardScaler()\n",
    "X_train = scaler.fit_transform(X_train)\n",
    "X_test = scaler.transform(X_test)"
   ]
  },
  {
   "cell_type": "code",
   "execution_count": 42,
   "id": "d696d2cb",
   "metadata": {},
   "outputs": [],
   "source": [
    "# 3. Dimensionality reduction\n",
    "pca = PCA(n_components=0.95)  # Retain 95% of variance\n",
    "X_train = pca.fit_transform(X_train)\n",
    "X_test = pca.transform(X_test)"
   ]
  },
  {
   "cell_type": "code",
   "execution_count": 43,
   "id": "a4c64fd2",
   "metadata": {},
   "outputs": [],
   "source": [
    "# Initialize the KNN classifier\n",
    "knn_classifier = KNeighborsClassifier(n_neighbors=5)  "
   ]
  },
  {
   "cell_type": "code",
   "execution_count": 44,
   "id": "86e7dbc0",
   "metadata": {},
   "outputs": [
    {
     "data": {
      "text/plain": [
       "KNeighborsClassifier()"
      ]
     },
     "execution_count": 44,
     "metadata": {},
     "output_type": "execute_result"
    }
   ],
   "source": [
    "# Train the classifier\n",
    "knn_classifier.fit(X_train, y_train)"
   ]
  },
  {
   "cell_type": "code",
   "execution_count": 45,
   "id": "a59827fa",
   "metadata": {},
   "outputs": [],
   "source": [
    "# Predict on the test set\n",
    "y_pred = knn_classifier.predict(X_test)"
   ]
  },
  {
   "cell_type": "code",
   "execution_count": 46,
   "id": "3c88797d",
   "metadata": {},
   "outputs": [
    {
     "name": "stdout",
     "output_type": "stream",
     "text": [
      "Accuracy: 0.75\n"
     ]
    }
   ],
   "source": [
    "# Calculate accuracy\n",
    "accuracy = accuracy_score(y_test, y_pred)\n",
    "print(f\"Accuracy: {accuracy:.2f}\")"
   ]
  },
  {
   "cell_type": "code",
   "execution_count": 47,
   "id": "b2868863",
   "metadata": {},
   "outputs": [
    {
     "name": "stdout",
     "output_type": "stream",
     "text": [
      "              precision    recall  f1-score   support\n",
      "\n",
      "     Organic       0.77      0.81      0.79      2553\n",
      "  Recyclable       0.73      0.68      0.70      1960\n",
      "\n",
      "    accuracy                           0.75      4513\n",
      "   macro avg       0.75      0.74      0.75      4513\n",
      "weighted avg       0.75      0.75      0.75      4513\n",
      "\n"
     ]
    }
   ],
   "source": [
    "# Print classification report\n",
    "class_names = ['Organic', 'Recyclable']\n",
    "print(classification_report(y_test, y_pred, target_names=class_names))"
   ]
  },
  {
   "cell_type": "code",
   "execution_count": 48,
   "id": "f620a996",
   "metadata": {},
   "outputs": [
    {
     "name": "stdout",
     "output_type": "stream",
     "text": [
      "Confusion Matrix:\n",
      "[[2067  486]\n",
      " [ 631 1329]]\n"
     ]
    }
   ],
   "source": [
    "# Plot confusion matrix\n",
    "conf_matrix = confusion_matrix(y_test, y_pred)\n",
    "print(\"Confusion Matrix:\")\n",
    "print(conf_matrix)"
   ]
  },
  {
   "cell_type": "code",
   "execution_count": 49,
   "id": "645d7eba",
   "metadata": {},
   "outputs": [
    {
     "data": {
      "image/png": "[encoded data removed]",
      "text/plain": [
       "<Figure size 576x432 with 2 Axes>"
      ]
     },
     "metadata": {
      "needs_background": "light"
     },
     "output_type": "display_data"
    }
   ],
   "source": [
    "# Plot confusion matrix as a heatmap\n",
    "plt.figure(figsize=(8, 6))\n",
    "plt.imshow(conf_matrix, interpolation='nearest', cmap=plt.cm.Blues)\n",
    "plt.title(\"Confusion Matrix\")\n",
    "plt.colorbar()\n",
    "tick_marks = np.arange(len(class_names))\n",
    "plt.xticks(tick_marks, class_names, rotation=45)\n",
    "plt.yticks(tick_marks, class_names)\n",
    "plt.xlabel(\"Predicted Label\")\n",
    "plt.ylabel(\"True Label\")\n",
    "plt.show()"
   ]
  },
  {
   "cell_type": "markdown",
   "id": "558b04a3",
   "metadata": {},
   "source": [
    "# Prediction"
   ]
  },
  {
   "cell_type": "code",
   "execution_count": 50,
   "id": "ff7e4cb7",
   "metadata": {},
   "outputs": [],
   "source": [
    "# Define the class labels\n",
    "class_labels = ['Organic', 'Recyclable']"
   ]
  },
  {
   "cell_type": "code",
   "execution_count": 51,
   "id": "10cafeac",
   "metadata": {},
   "outputs": [
    {
     "data": {
      "text/plain": [
       "Net(\n",
       "  (conv1): Conv2d(3, 8, kernel_size=(3, 3), stride=(1, 1))\n",
       "  (conv2): Conv2d(8, 16, kernel_size=(3, 3), stride=(1, 1))\n",
       "  (pool): MaxPool2d(kernel_size=2, stride=2, padding=0, dilation=1, ceil_mode=False)\n",
       "  (conv3): Conv2d(16, 32, kernel_size=(3, 3), stride=(1, 1))\n",
       "  (conv4): Conv2d(32, 32, kernel_size=(3, 3), stride=(1, 1))\n",
       "  (conv5): Conv2d(32, 64, kernel_size=(3, 3), stride=(1, 1))\n",
       "  (conv6): Conv2d(64, 64, kernel_size=(3, 3), stride=(1, 1))\n",
       "  (fc1): Linear(in_features=36864, out_features=1024, bias=True)\n",
       "  (fc2): Linear(in_features=1024, out_features=512, bias=True)\n",
       "  (fc3): Linear(in_features=512, out_features=10, bias=True)\n",
       "  (fc4): Linear(in_features=10, out_features=1, bias=True)\n",
       ")"
      ]
     },
     "execution_count": 51,
     "metadata": {},
     "output_type": "execute_result"
    }
   ],
   "source": [
    "# Load the saved model\n",
    "saved_model_path = 'cnn_model.pth'\n",
    "model = Net()  # Replace 'Net' with the name of CNN class\n",
    "model.load_state_dict(torch.load(saved_model_path))\n",
    "model.eval()"
   ]
  },
  {
   "cell_type": "code",
   "execution_count": 52,
   "id": "82394118",
   "metadata": {},
   "outputs": [],
   "source": [
    "# Define the transformation for test images\n",
    "data_transform = transforms.Compose([\n",
    "    transforms.Resize((256)),\n",
    "    transforms.ToTensor(),\n",
    "    transforms.CenterCrop(224),\n",
    "    transforms.Normalize(mean=[0.485, 0.456, 0.406], std=[0.229, 0.224, 0.225])\n",
    "])"
   ]
  },
  {
   "cell_type": "code",
   "execution_count": 53,
   "id": "ebf2b067",
   "metadata": {},
   "outputs": [],
   "source": [
    "# Load and preprocess the test image-Input img of carrot\n",
    "image_path = 'F:/UWL Study Documents/Dissertation/ds1_test_img.jpg'  \n",
    "image = Image.open(image_path).convert('RGB')\n",
    "image = data_transform(image).unsqueeze(0)"
   ]
  },
  {
   "cell_type": "code",
   "execution_count": 54,
   "id": "aec7cafc",
   "metadata": {},
   "outputs": [],
   "source": [
    "# Make a prediction\n",
    "with torch.no_grad():\n",
    "    output = model(image)\n",
    "    predicted_class = output.round().item()  # Get the predicted class (0 or 1)"
   ]
  },
  {
   "cell_type": "code",
   "execution_count": 55,
   "id": "65983e5e",
   "metadata": {},
   "outputs": [
    {
     "name": "stdout",
     "output_type": "stream",
     "text": [
      "Predicted class: Organic\n"
     ]
    }
   ],
   "source": [
    "# Get the corresponding class label\n",
    "predicted_label = class_labels[int(predicted_class)]\n",
    "\n",
    "print(f'Predicted class: {predicted_label}')"
   ]
  },
  {
   "cell_type": "markdown",
   "id": "5b1d19b3",
   "metadata": {},
   "source": [
    "Got the correct prediction for organic class so now trying for recyclable class"
   ]
  },
  {
   "cell_type": "code",
   "execution_count": 56,
   "id": "6ed6b065",
   "metadata": {},
   "outputs": [],
   "source": [
    "# Load and preprocess the test image-Input img of straws\n",
    "image_path = 'F:/UWL Study Documents/Dissertation/ds1_test_img2.jpg'  \n",
    "image = Image.open(image_path).convert('RGB')\n",
    "image = data_transform(image).unsqueeze(0)"
   ]
  },
  {
   "cell_type": "code",
   "execution_count": 57,
   "id": "eebcea2a",
   "metadata": {},
   "outputs": [],
   "source": [
    "# Make a prediction\n",
    "with torch.no_grad():\n",
    "    output = model(image)\n",
    "    predicted_class = output.round().item()  # Get the predicted class (0 or 1)"
   ]
  },
  {
   "cell_type": "code",
   "execution_count": 58,
   "id": "0cc791cb",
   "metadata": {},
   "outputs": [
    {
     "name": "stdout",
     "output_type": "stream",
     "text": [
      "Predicted class: Organic\n"
     ]
    }
   ],
   "source": [
    "# Get the corresponding class label\n",
    "predicted_label = class_labels[int(predicted_class)]\n",
    "\n",
    "print(f'Predicted class: {predicted_label}')"
   ]
  },
  {
   "cell_type": "code",
   "execution_count": 59,
   "id": "389660db",
   "metadata": {},
   "outputs": [],
   "source": [
    "# Load and preprocess the test image-Input img of can\n",
    "image_path = 'F:/UWL Study Documents/Dissertation/ds1_test_img3.jpg'  \n",
    "image = Image.open(image_path).convert('RGB')\n",
    "image = data_transform(image).unsqueeze(0)"
   ]
  },
  {
   "cell_type": "code",
   "execution_count": 60,
   "id": "ba48d7b2",
   "metadata": {},
   "outputs": [],
   "source": [
    "# Make a prediction\n",
    "with torch.no_grad():\n",
    "    output = model(image)\n",
    "    predicted_class = output.round().item()  # Get the predicted class (0 or 1)"
   ]
  },
  {
   "cell_type": "code",
   "execution_count": 61,
   "id": "b0323991",
   "metadata": {},
   "outputs": [
    {
     "name": "stdout",
     "output_type": "stream",
     "text": [
      "Predicted class: Recyclable\n"
     ]
    }
   ],
   "source": [
    "# Get the corresponding class label\n",
    "predicted_label = class_labels[int(predicted_class)]\n",
    "\n",
    "print(f'Predicted class: {predicted_label}')"
   ]
  }
 ],
 "metadata": {
  "kernelspec": {
   "display_name": "Python 3 (ipykernel)",
   "language": "python",
   "name": "python3"
  },
  "language_info": {
   "codemirror_mode": {
    "name": "ipython",
    "version": 3
   },
   "file_extension": ".py",
   "mimetype": "text/x-python",
   "name": "python",
   "nbconvert_exporter": "python",
   "pygments_lexer": "ipython3",
   "version": "3.9.12"
  },
  "papermill": {
   "default_parameters": {},
   "duration": 816.95152,
   "end_time": "2022-10-28T13:59:25.583961",
   "environment_variables": {},
   "exception": null,
   "input_path": "__notebook__.ipynb",
   "output_path": "__notebook__.ipynb",
   "parameters": {},
   "start_time": "2022-10-28T13:45:48.632441",
   "version": "2.3.4"
  }
 },
 "nbformat": 4,
 "nbformat_minor": 5
}
